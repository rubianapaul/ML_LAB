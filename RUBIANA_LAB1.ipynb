{
 "cells": [
  {
   "cell_type": "code",
   "execution_count": 1,
   "id": "2b22c2e8",
   "metadata": {},
   "outputs": [],
   "source": [
    "import pandas as pd\n",
    "import numpy as np"
   ]
  },
  {
   "cell_type": "code",
   "execution_count": 3,
   "id": "61bde897",
   "metadata": {},
   "outputs": [
    {
     "name": "stdout",
     "output_type": "stream",
     "text": [
      "     sky air temp humidity    wind water forecast enjoy sport\n",
      "0  sunny     warm   normal  strong  warm     same         yes\n",
      "1  sunny     warm     high  strong  warm     same         yes\n",
      "2  rainy     cold     high  strong  warm   change          no\n",
      "3  sunny     warm     high  strong  cool   change         yes\n"
     ]
    }
   ],
   "source": [
    "d=pd.read_csv(\"lab2.csv\")\n",
    "print (d)"
   ]
  },
  {
   "cell_type": "code",
   "execution_count": 4,
   "id": "3d53a098",
   "metadata": {},
   "outputs": [
    {
     "name": "stdout",
     "output_type": "stream",
     "text": [
      "The attributes are : \n",
      " [['sunny' 'warm' 'normal' 'strong' 'warm' 'same']\n",
      " ['sunny' 'warm' 'high' 'strong' 'warm' 'same']\n",
      " ['rainy' 'cold' 'high' 'strong' 'warm' 'change']\n",
      " ['sunny' 'warm' 'high' 'strong' 'cool' 'change']]\n",
      "\n",
      "The target is :  ['yes' 'yes' 'no' 'yes']\n"
     ]
    }
   ],
   "source": [
    "att=np.array(d)[:,:-1]\n",
    "print(\"The attributes are : \\n\",att)\n",
    "tar=np.array(d)[:,-1]\n",
    "print(\"\\nThe target is : \",tar)"
   ]
  },
  {
   "cell_type": "code",
   "execution_count": 5,
   "id": "33b97253",
   "metadata": {},
   "outputs": [],
   "source": [
    "def finds(att,tar):\n",
    "    for i,val in enumerate(tar):\n",
    "        if val==\"yes\":\n",
    "            res=att[i].copy()\n",
    "            break\n",
    "    for i,val in enumerate(att):\n",
    "        if tar[i]==\"yes\":\n",
    "            for x in range(len(res)):\n",
    "                if val[x]!=res[x]:\n",
    "                    res[x]=\"?\"\n",
    "                else:\n",
    "                    pass\n",
    "    return res"
   ]
  },
  {
   "cell_type": "code",
   "execution_count": 6,
   "id": "eb6fcf7c",
   "metadata": {},
   "outputs": [
    {
     "name": "stdout",
     "output_type": "stream",
     "text": [
      "['sunny' 'warm' '?' 'strong' '?' '?']\n"
     ]
    }
   ],
   "source": [
    "print(finds(att,tar))"
   ]
  },
  {
   "cell_type": "code",
   "execution_count": null,
   "id": "fba351b2",
   "metadata": {},
   "outputs": [],
   "source": []
  }
 ],
 "metadata": {
  "kernelspec": {
   "display_name": "Python 3 (ipykernel)",
   "language": "python",
   "name": "python3"
  },
  "language_info": {
   "codemirror_mode": {
    "name": "ipython",
    "version": 3
   },
   "file_extension": ".py",
   "mimetype": "text/x-python",
   "name": "python",
   "nbconvert_exporter": "python",
   "pygments_lexer": "ipython3",
   "version": "3.9.7"
  }
 },
 "nbformat": 4,
 "nbformat_minor": 5
}
